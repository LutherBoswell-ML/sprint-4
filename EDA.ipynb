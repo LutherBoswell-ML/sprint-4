# EDA.ipynb - Preprocess and Visualize Vehicle Data with Plotly

import pandas as pd
import plotly.express as px

# Load data
df = pd.read_csv('/Users/lu/sprint-4/vehicles_us.csv')

# Dataset overview
df.head()

# Summary statistics for numerical columns
df.info()
df.describe()

# Check for missing values
df.isnull().sum()

# Preprocessing
# Extract manufacturer from model
df['manufacturer'] = df['model'].apply(lambda x: x.split()[0])

# Fill missing values - model_year
model_year_median = df.groupby('model')['model_year'].transform('median')
df['model_year'] = df['model_year'].fillna(model_year_median)

# Fill missing values - cylinders
cyl_median = df.groupby('model')['cylinders'].transform('median')
df['cylinders'] = df['cylinders'].fillna(cyl_median)

# Fill missing values - odometer
odo_median = df.groupby(['model', 'model_year'])['odometer'].transform('median')
df['odometer'] = df['odometer'].fillna(odo_median)

# Remove price and model_year outliers for better visuals
df = df[df['price'].between(500, 100000)]
df = df[df['model_year'].between(1980, 2022)]

# Plot histogram
fig = px.histogram(df, x='price', title='Car Price Distribution')
fig.show()

# Plot scatter plot
fig2 = px.scatter(df, x='odometer', y='price', title='Price vs. Mileage')
fig2.show()

# Save cleaned data for Streamlit app
cleaned_df_path = '/Users/lu/sprint-4/vehicles_us_cleaned.csv'
df.to_csv(cleaned_df_path, index=False)
print(f"Cleaned data saved to {cleaned_df_path}")
